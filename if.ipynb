{
 "cells": [
  {
   "cell_type": "markdown",
   "metadata": {},
   "source": [
    "# if"
   ]
  },
  {
   "cell_type": "code",
   "execution_count": 8,
   "metadata": {},
   "outputs": [
    {
     "name": "stdout",
     "output_type": "stream",
     "text": [
      "walk\n"
     ]
    }
   ],
   "source": [
    "money = False\n",
    "if money:\n",
    "    print(\"taxi\")\n",
    "else:\n",
    "    print(\"walk\")"
   ]
  },
  {
   "cell_type": "code",
   "execution_count": 6,
   "metadata": {},
   "outputs": [
    {
     "name": "stdout",
     "output_type": "stream",
     "text": [
      "x='a', y='b'\n"
     ]
    }
   ],
   "source": [
    "x, y = \"a\", \"b\"\n",
    "print(f\"{x=}, {y=}\")"
   ]
  },
  {
   "cell_type": "code",
   "execution_count": 7,
   "metadata": {},
   "outputs": [
    {
     "name": "stdout",
     "output_type": "stream",
     "text": [
      "x > y = False\n",
      "x < y = True\n",
      "x == y = False\n",
      "x != y = True\n",
      "x >= y = False\n",
      "x <= y = True\n"
     ]
    }
   ],
   "source": [
    "print(f\"{x > y = }\")\n",
    "print(f\"{x < y = }\")\n",
    "print(f\"{x == y = }\")\n",
    "print(f\"{x != y = }\")\n",
    "print(f\"{x >= y = }\")\n",
    "print(f\"{x <= y = }\")"
   ]
  },
  {
   "cell_type": "code",
   "execution_count": 9,
   "metadata": {},
   "outputs": [
    {
     "name": "stdout",
     "output_type": "stream",
     "text": [
      "taxi\n"
     ]
    }
   ],
   "source": [
    "money = 10000\n",
    "if money > 4000:\n",
    "    print(\"taxi\")\n",
    "else:\n",
    "    print(\"walk\")"
   ]
  },
  {
   "cell_type": "code",
   "execution_count": 12,
   "metadata": {},
   "outputs": [
    {
     "name": "stdout",
     "output_type": "stream",
     "text": [
      "taxi\n"
     ]
    }
   ],
   "source": [
    "money = 1000\n",
    "card = True\n",
    "if money >= 4000 or card:\n",
    "    print(\"taxi\")\n",
    "else:\n",
    "    print(\"walk\")"
   ]
  },
  {
   "cell_type": "code",
   "execution_count": 14,
   "metadata": {},
   "outputs": [
    {
     "name": "stdout",
     "output_type": "stream",
     "text": [
      "True or True = True\n",
      "True or False = True\n",
      "False or False = False\n"
     ]
    }
   ],
   "source": [
    "print(f\"{True or True = }\")\n",
    "print(f\"{True or False = }\")\n",
    "print(f\"{False or False = }\")"
   ]
  },
  {
   "cell_type": "code",
   "execution_count": 16,
   "metadata": {},
   "outputs": [
    {
     "name": "stdout",
     "output_type": "stream",
     "text": [
      "a and b = False\n",
      "a and not b = True\n",
      "a or b = True\n",
      "not a = False\n",
      "not b = True\n"
     ]
    }
   ],
   "source": [
    "a = True\n",
    "b = False\n",
    "\n",
    "print(f\"{a and b = }\")\n",
    "print(f\"{a and not b = }\")\n",
    "print(f\"{a or b = }\")\n",
    "print(f\"{not a = }\")\n",
    "print(f\"{not b = }\")"
   ]
  },
  {
   "cell_type": "code",
   "execution_count": 17,
   "metadata": {},
   "outputs": [
    {
     "name": "stdout",
     "output_type": "stream",
     "text": [
      "a and b = False\n",
      "a and not b = False\n",
      "a or b = False\n",
      "not a = True\n",
      "not b = True\n"
     ]
    }
   ],
   "source": [
    "a = x > y\n",
    "b = x == y\n",
    "\n",
    "print(f\"{a and b = }\")\n",
    "print(f\"{a and not b = }\")\n",
    "print(f\"{a or b = }\")\n",
    "print(f\"{not a = }\")\n",
    "print(f\"{not b = }\")"
   ]
  },
  {
   "cell_type": "code",
   "execution_count": 18,
   "metadata": {},
   "outputs": [],
   "source": [
    "l = [1,2,3,4,5]"
   ]
  },
  {
   "cell_type": "code",
   "execution_count": 19,
   "metadata": {},
   "outputs": [
    {
     "name": "stdout",
     "output_type": "stream",
     "text": [
      "4 in l = True\n"
     ]
    }
   ],
   "source": [
    "print(f\"{4 in l = }\")"
   ]
  },
  {
   "cell_type": "code",
   "execution_count": 20,
   "metadata": {},
   "outputs": [
    {
     "name": "stdout",
     "output_type": "stream",
     "text": [
      "taxi\n"
     ]
    }
   ],
   "source": [
    "pocket = [\"cellphone\", \"paper\"]\n",
    "card = True\n",
    "\n",
    "if \"money\" in pocket:\n",
    "    print(\"taxi-cash\")\n",
    "else:\n",
    "    if card:\n",
    "        print(\"taxi-card\")\n",
    "    else:\n",
    "        print(\"walk\")"
   ]
  },
  {
   "cell_type": "code",
   "execution_count": 21,
   "metadata": {},
   "outputs": [
    {
     "name": "stdout",
     "output_type": "stream",
     "text": [
      "taxi-card\n"
     ]
    }
   ],
   "source": [
    "pocket = [\"cellphone\", \"paper\"]\n",
    "card = True\n",
    "\n",
    "if \"money\" in pocket:\n",
    "    print(\"taxi-cash\")\n",
    "elif card:\n",
    "    print(\"taxi-card\")\n",
    "else:\n",
    "    print(\"walk\")"
   ]
  },
  {
   "cell_type": "code",
   "execution_count": 22,
   "metadata": {},
   "outputs": [],
   "source": [
    "pocket = [\"cellphone\", \"paper\"]\n",
    "card = False\n",
    "\n",
    "if \"money\" in pocket:\n",
    "    print(\"taxi-cash\")\n",
    "elif card:\n",
    "    print(\"taxi-card\")\n",
    "#else:\n",
    "#   print(\"walk\")"
   ]
  },
  {
   "cell_type": "code",
   "execution_count": 27,
   "metadata": {},
   "outputs": [
    {
     "name": "stdout",
     "output_type": "stream",
     "text": [
      "success\n"
     ]
    }
   ],
   "source": [
    "score = 60\n",
    "if score >= 60:\n",
    "    message = \"success\"\n",
    "else:\n",
    "    message = \"failure\"\n",
    "print(message)"
   ]
  },
  {
   "cell_type": "code",
   "execution_count": 29,
   "metadata": {},
   "outputs": [
    {
     "name": "stdout",
     "output_type": "stream",
     "text": [
      "success\n"
     ]
    }
   ],
   "source": [
    "message = \"success\" if score > 60 else \"failure\"\n",
    "print(message)"
   ]
  },
  {
   "cell_type": "code",
   "execution_count": 1,
   "metadata": {},
   "outputs": [
    {
     "ename": "NameError",
     "evalue": "name 'message' is not defined",
     "output_type": "error",
     "traceback": [
      "\u001b[0;31m---------------------------------------------------------------------------\u001b[0m",
      "\u001b[0;31mNameError\u001b[0m                                 Traceback (most recent call last)",
      "Cell \u001b[0;32mIn[1], line 6\u001b[0m\n\u001b[1;32m      4\u001b[0m \u001b[38;5;28;01melif\u001b[39;00m score \u001b[38;5;241m<\u001b[39m \u001b[38;5;241m40\u001b[39m:\n\u001b[1;32m      5\u001b[0m     message \u001b[38;5;241m=\u001b[39m \u001b[38;5;124m\"\u001b[39m\u001b[38;5;124mretry\u001b[39m\u001b[38;5;124m\"\u001b[39m\n\u001b[0;32m----> 6\u001b[0m \u001b[38;5;28mprint\u001b[39m(\u001b[43mmessage\u001b[49m)\n",
      "\u001b[0;31mNameError\u001b[0m: name 'message' is not defined"
     ]
    }
   ],
   "source": [
    "score = 50\n",
    "if score >= 60:\n",
    "    message = \"success\"\n",
    "elif score < 40:\n",
    "    message = \"retry\"\n",
    "print(message)\n",
    "# message 변수가 선언되지 않았기 때문에 에러가 발생\n",
    "# NameError: name 'message' is not defined"
   ]
  },
  {
   "cell_type": "code",
   "execution_count": null,
   "metadata": {},
   "outputs": [],
   "source": []
  }
 ],
 "metadata": {
  "kernelspec": {
   "display_name": "Python 3 (ipykernel)",
   "language": "python",
   "name": "python3"
  },
  "language_info": {
   "codemirror_mode": {
    "name": "ipython",
    "version": 3
   },
   "file_extension": ".py",
   "mimetype": "text/x-python",
   "name": "python",
   "nbconvert_exporter": "python",
   "pygments_lexer": "ipython3",
   "version": "3.11.5"
  }
 },
 "nbformat": 4,
 "nbformat_minor": 4
}
