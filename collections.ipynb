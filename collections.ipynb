{
 "cells": [
  {
   "cell_type": "code",
   "execution_count": 1,
   "id": "3d50f170-32ac-40b6-bc29-4adaad8109cd",
   "metadata": {},
   "outputs": [],
   "source": [
    "a = (2, 4, 5, )"
   ]
  },
  {
   "cell_type": "code",
   "execution_count": 2,
   "id": "dc77084d-fcc6-496b-b54d-0aae0ecadf5c",
   "metadata": {},
   "outputs": [
    {
     "data": {
      "text/plain": [
       "4"
      ]
     },
     "execution_count": 2,
     "metadata": {},
     "output_type": "execute_result"
    }
   ],
   "source": [
    "a[1]"
   ]
  },
  {
   "cell_type": "code",
   "execution_count": 3,
   "id": "4d22ab0a-d694-4e14-89d3-a13522ca3a3f",
   "metadata": {},
   "outputs": [
    {
     "ename": "TypeError",
     "evalue": "'tuple' object does not support item assignment",
     "output_type": "error",
     "traceback": [
      "\u001b[0;31m---------------------------------------------------------------------------\u001b[0m",
      "\u001b[0;31mTypeError\u001b[0m                                 Traceback (most recent call last)",
      "Cell \u001b[0;32mIn[3], line 1\u001b[0m\n\u001b[0;32m----> 1\u001b[0m \u001b[43ma\u001b[49m\u001b[43m[\u001b[49m\u001b[38;5;241;43m1\u001b[39;49m\u001b[43m]\u001b[49m \u001b[38;5;241m=\u001b[39m \u001b[38;5;241m4\u001b[39m\n",
      "\u001b[0;31mTypeError\u001b[0m: 'tuple' object does not support item assignment"
     ]
    }
   ],
   "source": [
    "a[1] = 4"
   ]
  },
  {
   "cell_type": "code",
   "execution_count": 17,
   "id": "cf3f11c3-7f11-42f1-aa6b-a9e8b1bc629e",
   "metadata": {},
   "outputs": [],
   "source": [
    "# 0 : 키, 1 : 나이, 2 : 전공, 3 : 학교\n",
    "human = (180, 34, \"cs\", \"kbu\")"
   ]
  },
  {
   "cell_type": "code",
   "execution_count": 6,
   "id": "c715e939-9277-4a45-8df4-17df350061f4",
   "metadata": {},
   "outputs": [
    {
     "data": {
      "text/plain": [
       "tuple"
      ]
     },
     "execution_count": 6,
     "metadata": {},
     "output_type": "execute_result"
    }
   ],
   "source": [
    "type(human)"
   ]
  },
  {
   "cell_type": "code",
   "execution_count": 20,
   "id": "27621122-38a1-4c62-a14f-109379469709",
   "metadata": {},
   "outputs": [],
   "source": [
    "height, age, major, univ = human"
   ]
  },
  {
   "cell_type": "code",
   "execution_count": 22,
   "id": "f094f8b8-2999-48ea-bb18-7d47ec59bd2f",
   "metadata": {},
   "outputs": [
    {
     "name": "stdout",
     "output_type": "stream",
     "text": [
      "height = 180, age = 34, major = 'cs', univ = 'kbu'\n"
     ]
    }
   ],
   "source": [
    "print(f\"{height = }, {age = }, {major = }, {univ = }\")"
   ]
  },
  {
   "cell_type": "code",
   "execution_count": 23,
   "id": "5524f32a-4f7e-4939-a14d-536275405e05",
   "metadata": {},
   "outputs": [],
   "source": [
    "height, age, *others = human"
   ]
  },
  {
   "cell_type": "code",
   "execution_count": 24,
   "id": "4305f928-3391-4c3f-a34d-e447ee4d4164",
   "metadata": {},
   "outputs": [
    {
     "data": {
      "text/plain": [
       "list"
      ]
     },
     "execution_count": 24,
     "metadata": {},
     "output_type": "execute_result"
    }
   ],
   "source": [
    "type(others)"
   ]
  },
  {
   "cell_type": "code",
   "execution_count": 25,
   "id": "7a77c532-cb1e-4230-a572-6e3ab262d1bc",
   "metadata": {},
   "outputs": [
    {
     "name": "stdout",
     "output_type": "stream",
     "text": [
      "height = 180, age = 34, others = ['cs', 'kbu']\n"
     ]
    }
   ],
   "source": [
    "print(f\"{height = }, {age = }, {others = }\")"
   ]
  },
  {
   "cell_type": "code",
   "execution_count": 28,
   "id": "8920d868-c1b8-4056-85ae-a331521dd343",
   "metadata": {},
   "outputs": [],
   "source": [
    "*others, major, univ  = human"
   ]
  },
  {
   "cell_type": "code",
   "execution_count": 29,
   "id": "3023a73b-8907-45cb-897d-17b0bf970ee6",
   "metadata": {},
   "outputs": [
    {
     "name": "stdout",
     "output_type": "stream",
     "text": [
      "others = [180, 34], major = 'cs', univ = 'kbu'\n"
     ]
    }
   ],
   "source": [
    "print(f\"{others = }, {major = }, {univ = }\")"
   ]
  },
  {
   "cell_type": "code",
   "execution_count": 30,
   "id": "01b5e528-f102-4ac2-a5e6-e2df2b2fde34",
   "metadata": {},
   "outputs": [],
   "source": [
    "height, *others, univ  = human"
   ]
  },
  {
   "cell_type": "code",
   "execution_count": 31,
   "id": "df49ff5c-c733-4a98-908a-253c08070c29",
   "metadata": {},
   "outputs": [
    {
     "name": "stdout",
     "output_type": "stream",
     "text": [
      "height = 180, others = [34, 'cs'], univ = 'kbu'\n"
     ]
    }
   ],
   "source": [
    "print(f\"{height = }, {others = }, {univ = }\")"
   ]
  },
  {
   "cell_type": "code",
   "execution_count": 32,
   "id": "edc5a5b0-6e21-4978-8c65-0f5437bde711",
   "metadata": {},
   "outputs": [],
   "source": [
    "d = {\"apple\" : 3, \"banana\" : 4}"
   ]
  },
  {
   "cell_type": "code",
   "execution_count": 33,
   "id": "0d1d9b18-d47e-44c3-83e2-3b21c438ecb6",
   "metadata": {},
   "outputs": [
    {
     "data": {
      "text/plain": [
       "dict"
      ]
     },
     "execution_count": 33,
     "metadata": {},
     "output_type": "execute_result"
    }
   ],
   "source": [
    "type(d)"
   ]
  },
  {
   "cell_type": "code",
   "execution_count": 34,
   "id": "3d0c7265-a70f-45db-b4cb-cdbb0c8055b8",
   "metadata": {},
   "outputs": [
    {
     "name": "stdout",
     "output_type": "stream",
     "text": [
      "3\n"
     ]
    }
   ],
   "source": [
    "print(d['apple'])"
   ]
  },
  {
   "cell_type": "code",
   "execution_count": 35,
   "id": "a37f614d-3766-4642-9e3d-e89d4b02f4c4",
   "metadata": {},
   "outputs": [],
   "source": [
    "d[\"mango\"] = 5"
   ]
  },
  {
   "cell_type": "code",
   "execution_count": 36,
   "id": "bad5c5ea-2767-44c6-9e88-011e7ec531b0",
   "metadata": {},
   "outputs": [
    {
     "data": {
      "text/plain": [
       "{'apple': 3, 'banana': 4, 'mango': 5}"
      ]
     },
     "execution_count": 36,
     "metadata": {},
     "output_type": "execute_result"
    }
   ],
   "source": [
    "d"
   ]
  },
  {
   "cell_type": "code",
   "execution_count": 37,
   "id": "eaaed490-3667-4859-ab17-2fc8615d4916",
   "metadata": {},
   "outputs": [],
   "source": [
    "d[\"mango\"] = 7"
   ]
  },
  {
   "cell_type": "code",
   "execution_count": 38,
   "id": "3d816ded-f028-4044-97e2-064fd37951b5",
   "metadata": {},
   "outputs": [
    {
     "data": {
      "text/plain": [
       "{'apple': 3, 'banana': 4, 'mango': 7}"
      ]
     },
     "execution_count": 38,
     "metadata": {},
     "output_type": "execute_result"
    }
   ],
   "source": [
    "d"
   ]
  },
  {
   "cell_type": "code",
   "execution_count": 39,
   "id": "6286e99c-8078-422b-bb62-496ae44207b1",
   "metadata": {},
   "outputs": [],
   "source": [
    "d[\"Mango\"] = 10"
   ]
  },
  {
   "cell_type": "code",
   "execution_count": 40,
   "id": "31002381-cd62-45ff-9d81-ad031189df14",
   "metadata": {},
   "outputs": [
    {
     "data": {
      "text/plain": [
       "{'apple': 3, 'banana': 4, 'mango': 7, 'Mango': 10}"
      ]
     },
     "execution_count": 40,
     "metadata": {},
     "output_type": "execute_result"
    }
   ],
   "source": [
    "d"
   ]
  },
  {
   "cell_type": "code",
   "execution_count": 41,
   "id": "ffeedd75-0df4-4fd5-9d6b-06ecd1cdfd71",
   "metadata": {},
   "outputs": [],
   "source": [
    "del d[\"Mango\"]"
   ]
  },
  {
   "cell_type": "code",
   "execution_count": 42,
   "id": "39cf3669-de3b-4940-90c3-748bbcdbe4ae",
   "metadata": {},
   "outputs": [
    {
     "data": {
      "text/plain": [
       "{'apple': 3, 'banana': 4, 'mango': 7}"
      ]
     },
     "execution_count": 42,
     "metadata": {},
     "output_type": "execute_result"
    }
   ],
   "source": [
    "d"
   ]
  },
  {
   "cell_type": "code",
   "execution_count": 43,
   "id": "b1f0a13b-4060-4d56-b665-12201b106da9",
   "metadata": {},
   "outputs": [],
   "source": [
    "d[(3, 4)] = \"value01\""
   ]
  },
  {
   "cell_type": "code",
   "execution_count": 44,
   "id": "d9022d6d-73d6-4913-80d0-8f244d4f9874",
   "metadata": {},
   "outputs": [
    {
     "data": {
      "text/plain": [
       "{'apple': 3, 'banana': 4, 'mango': 7, (3, 4): 'value01'}"
      ]
     },
     "execution_count": 44,
     "metadata": {},
     "output_type": "execute_result"
    }
   ],
   "source": [
    "d"
   ]
  },
  {
   "cell_type": "code",
   "execution_count": 45,
   "id": "2603a6c4-0d10-412f-9e33-d89cb89ca8aa",
   "metadata": {},
   "outputs": [
    {
     "ename": "TypeError",
     "evalue": "unhashable type: 'list'",
     "output_type": "error",
     "traceback": [
      "\u001b[0;31m---------------------------------------------------------------------------\u001b[0m",
      "\u001b[0;31mTypeError\u001b[0m                                 Traceback (most recent call last)",
      "Cell \u001b[0;32mIn[45], line 1\u001b[0m\n\u001b[0;32m----> 1\u001b[0m \u001b[43md\u001b[49m\u001b[43m[\u001b[49m\u001b[43m[\u001b[49m\u001b[38;5;241;43m5\u001b[39;49m\u001b[43m,\u001b[49m\u001b[38;5;241;43m6\u001b[39;49m\u001b[43m]\u001b[49m\u001b[43m]\u001b[49m \u001b[38;5;241m=\u001b[39m \u001b[38;5;124m\"\u001b[39m\u001b[38;5;124mvalue01\u001b[39m\u001b[38;5;124m\"\u001b[39m\n",
      "\u001b[0;31mTypeError\u001b[0m: unhashable type: 'list'"
     ]
    }
   ],
   "source": [
    "d[[5,6]] = \"value01\""
   ]
  },
  {
   "cell_type": "code",
   "execution_count": 46,
   "id": "d755b83c-f597-4747-a8fc-a68dac9f5755",
   "metadata": {},
   "outputs": [],
   "source": [
    "d[(1, 2)] = human"
   ]
  },
  {
   "cell_type": "code",
   "execution_count": 47,
   "id": "eaa41e0f-1016-4552-98a9-0e89a7fc60d3",
   "metadata": {},
   "outputs": [
    {
     "data": {
      "text/plain": [
       "{'apple': 3,\n",
       " 'banana': 4,\n",
       " 'mango': 7,\n",
       " (3, 4): 'value01',\n",
       " (1, 2): (180, 34, 'cs', 'kbu')}"
      ]
     },
     "execution_count": 47,
     "metadata": {},
     "output_type": "execute_result"
    }
   ],
   "source": [
    "d"
   ]
  },
  {
   "cell_type": "code",
   "execution_count": 48,
   "id": "41a50cd2-8a53-4d99-a19a-594e71cc564f",
   "metadata": {},
   "outputs": [],
   "source": [
    "a = {\"a\" : 1, \"b\" : 3}"
   ]
  },
  {
   "cell_type": "code",
   "execution_count": 49,
   "id": "77b39a81-64d4-4504-9ba5-de50bb285854",
   "metadata": {},
   "outputs": [],
   "source": [
    "d[(3,4)] = a"
   ]
  },
  {
   "cell_type": "code",
   "execution_count": 50,
   "id": "b3bef582-f2b9-4664-a2bc-03088678cbb9",
   "metadata": {},
   "outputs": [
    {
     "data": {
      "text/plain": [
       "{'apple': 3,\n",
       " 'banana': 4,\n",
       " 'mango': 7,\n",
       " (3, 4): {'a': 1, 'b': 3},\n",
       " (1, 2): (180, 34, 'cs', 'kbu')}"
      ]
     },
     "execution_count": 50,
     "metadata": {},
     "output_type": "execute_result"
    }
   ],
   "source": [
    "d"
   ]
  },
  {
   "cell_type": "code",
   "execution_count": 51,
   "id": "10b05f64-7ba6-49f6-96ae-5b8f5b46ba6f",
   "metadata": {},
   "outputs": [],
   "source": [
    "d[dict] = 2"
   ]
  },
  {
   "cell_type": "code",
   "execution_count": 52,
   "id": "c300702c-9d1d-477e-b915-017f446db38d",
   "metadata": {},
   "outputs": [
    {
     "data": {
      "text/plain": [
       "{'apple': 3,\n",
       " 'banana': 4,\n",
       " 'mango': 7,\n",
       " (3, 4): {'a': 1, 'b': 3},\n",
       " (1, 2): (180, 34, 'cs', 'kbu'),\n",
       " dict: 2}"
      ]
     },
     "execution_count": 52,
     "metadata": {},
     "output_type": "execute_result"
    }
   ],
   "source": [
    "d"
   ]
  },
  {
   "cell_type": "code",
   "execution_count": 53,
   "id": "c1299ad0-2410-4dcc-a81f-382c98bc4103",
   "metadata": {},
   "outputs": [
    {
     "data": {
      "text/plain": [
       "dict_keys(['apple', 'banana', 'mango', (3, 4), (1, 2), <class 'dict'>])"
      ]
     },
     "execution_count": 53,
     "metadata": {},
     "output_type": "execute_result"
    }
   ],
   "source": [
    "d.keys()"
   ]
  },
  {
   "cell_type": "code",
   "execution_count": 54,
   "id": "a12378c2-bb02-448a-921d-0356d8acd4a2",
   "metadata": {},
   "outputs": [
    {
     "data": {
      "text/plain": [
       "dict_values([3, 4, 7, {'a': 1, 'b': 3}, (180, 34, 'cs', 'kbu'), 2])"
      ]
     },
     "execution_count": 54,
     "metadata": {},
     "output_type": "execute_result"
    }
   ],
   "source": [
    "d.values()"
   ]
  },
  {
   "cell_type": "code",
   "execution_count": 55,
   "id": "11b65564-1d15-424a-9db6-c37590fcac9a",
   "metadata": {},
   "outputs": [
    {
     "data": {
      "text/plain": [
       "dict_items([('apple', 3), ('banana', 4), ('mango', 7), ((3, 4), {'a': 1, 'b': 3}), ((1, 2), (180, 34, 'cs', 'kbu')), (<class 'dict'>, 2)])"
      ]
     },
     "execution_count": 55,
     "metadata": {},
     "output_type": "execute_result"
    }
   ],
   "source": [
    "d.items()"
   ]
  },
  {
   "cell_type": "code",
   "execution_count": 59,
   "id": "00d01e81-5bfb-41f4-aaec-52a7d1c22503",
   "metadata": {},
   "outputs": [
    {
     "data": {
      "text/plain": [
       "True"
      ]
     },
     "execution_count": 59,
     "metadata": {},
     "output_type": "execute_result"
    }
   ],
   "source": [
    "\"apple\" in d"
   ]
  },
  {
   "cell_type": "code",
   "execution_count": 62,
   "id": "2bef09ef-bf7c-4ba4-a2d4-901d4f4cef33",
   "metadata": {},
   "outputs": [
    {
     "data": {
      "text/plain": [
       "False"
      ]
     },
     "execution_count": 62,
     "metadata": {},
     "output_type": "execute_result"
    }
   ],
   "source": [
    "(3, 4) not in d"
   ]
  },
  {
   "cell_type": "code",
   "execution_count": 63,
   "id": "4625120a-c426-4e20-882b-618921db8b73",
   "metadata": {},
   "outputs": [
    {
     "data": {
      "text/plain": [
       "True"
      ]
     },
     "execution_count": 63,
     "metadata": {},
     "output_type": "execute_result"
    }
   ],
   "source": [
    "(3, 4) in d"
   ]
  },
  {
   "cell_type": "code",
   "execution_count": 67,
   "id": "c783de5d-4a3b-458b-ac0c-a8b23f56ac1f",
   "metadata": {},
   "outputs": [
    {
     "data": {
      "text/plain": [
       "3"
      ]
     },
     "execution_count": 67,
     "metadata": {},
     "output_type": "execute_result"
    }
   ],
   "source": [
    "d[\"apple\"]"
   ]
  },
  {
   "cell_type": "code",
   "execution_count": 69,
   "id": "17c59b46-d65c-4863-910d-7d9f16652a08",
   "metadata": {},
   "outputs": [
    {
     "name": "stdout",
     "output_type": "stream",
     "text": [
      "default\n"
     ]
    }
   ],
   "source": [
    "print(d.get(\"apple01\", \"default\"))"
   ]
  },
  {
   "cell_type": "code",
   "execution_count": 73,
   "id": "350df15e-b229-4c33-b251-dd886268fb00",
   "metadata": {},
   "outputs": [],
   "source": [
    "a = set([1,2,3])"
   ]
  },
  {
   "cell_type": "code",
   "execution_count": 74,
   "id": "ec00b32d-57be-40f0-9e90-ac9b59e33ff4",
   "metadata": {},
   "outputs": [
    {
     "data": {
      "text/plain": [
       "set"
      ]
     },
     "execution_count": 74,
     "metadata": {},
     "output_type": "execute_result"
    }
   ],
   "source": [
    "type(a)"
   ]
  },
  {
   "cell_type": "code",
   "execution_count": 88,
   "id": "739483b6-1fbe-49bd-876c-fc4212b37b5d",
   "metadata": {},
   "outputs": [],
   "source": [
    "b = [1,2,3,5,5,5,5]"
   ]
  },
  {
   "cell_type": "code",
   "execution_count": 78,
   "id": "99473dcc-1cf9-4e86-8e56-56e648146aad",
   "metadata": {},
   "outputs": [
    {
     "name": "stdout",
     "output_type": "stream",
     "text": [
      "[1, 2, 3, 5, 5, 5]\n"
     ]
    }
   ],
   "source": [
    "print(b)"
   ]
  },
  {
   "cell_type": "code",
   "execution_count": 79,
   "id": "ce278150-252e-4620-8c44-5d41178b3412",
   "metadata": {},
   "outputs": [
    {
     "name": "stdout",
     "output_type": "stream",
     "text": [
      "{1, 2, 3, 5}\n"
     ]
    }
   ],
   "source": [
    "print(set(b))"
   ]
  },
  {
   "cell_type": "code",
   "execution_count": 80,
   "id": "3cec8308-5e70-48ac-b6d7-285708633b9a",
   "metadata": {},
   "outputs": [
    {
     "data": {
      "text/plain": [
       "{1, 2, 3, 5}"
      ]
     },
     "execution_count": 80,
     "metadata": {},
     "output_type": "execute_result"
    }
   ],
   "source": [
    "set([1,2,3,5,5,5])"
   ]
  },
  {
   "cell_type": "code",
   "execution_count": 81,
   "id": "a743239a-bb7a-4343-87e6-7fe76e55dc6e",
   "metadata": {},
   "outputs": [
    {
     "data": {
      "text/plain": [
       "True"
      ]
     },
     "execution_count": 81,
     "metadata": {},
     "output_type": "execute_result"
    }
   ],
   "source": [
    "a = 2\n",
    "b = 1\n",
    "a > b"
   ]
  },
  {
   "cell_type": "code",
   "execution_count": 82,
   "id": "adbc23de-31c7-4b45-8ff5-aca23e41fdc5",
   "metadata": {},
   "outputs": [
    {
     "data": {
      "text/plain": [
       "True"
      ]
     },
     "execution_count": 82,
     "metadata": {},
     "output_type": "execute_result"
    }
   ],
   "source": [
    "bool(\"python\")"
   ]
  },
  {
   "cell_type": "code",
   "execution_count": 83,
   "id": "2c616b56-1e41-490a-8206-7b2d54881c1c",
   "metadata": {},
   "outputs": [],
   "source": [
    "l = 88\n",
    "import sys"
   ]
  },
  {
   "cell_type": "code",
   "execution_count": 84,
   "id": "3a8ade1d-51ea-4524-ae82-cddafd103ab4",
   "metadata": {},
   "outputs": [
    {
     "data": {
      "text/plain": [
       "28"
      ]
     },
     "execution_count": 84,
     "metadata": {},
     "output_type": "execute_result"
    }
   ],
   "source": [
    "sys.getsizeof(l)"
   ]
  },
  {
   "cell_type": "code",
   "execution_count": 89,
   "id": "bd8f8ae0-a527-4cdf-a8b3-9660e6e971f1",
   "metadata": {},
   "outputs": [
    {
     "data": {
      "text/plain": [
       "120"
      ]
     },
     "execution_count": 89,
     "metadata": {},
     "output_type": "execute_result"
    }
   ],
   "source": [
    "sys.getsizeof(b)"
   ]
  },
  {
   "cell_type": "code",
   "execution_count": 90,
   "id": "8c696d24-884a-4e84-b6ee-febe2a7aef6f",
   "metadata": {},
   "outputs": [],
   "source": [
    "key = 88"
   ]
  },
  {
   "cell_type": "code",
   "execution_count": 91,
   "id": "9a6d4e64-a7ae-4f70-ad6e-fd6bc4ec8681",
   "metadata": {},
   "outputs": [],
   "source": [
    "other_key = key"
   ]
  },
  {
   "cell_type": "code",
   "execution_count": 92,
   "id": "2a6d3755-eca3-4aeb-ba3d-4923ea672e7f",
   "metadata": {},
   "outputs": [],
   "source": [
    "key = 5"
   ]
  },
  {
   "cell_type": "code",
   "execution_count": 94,
   "id": "4e27800d-b027-424b-88d9-acbb128b8f82",
   "metadata": {},
   "outputs": [
    {
     "name": "stdout",
     "output_type": "stream",
     "text": [
      "key = 5, other_key = 88\n"
     ]
    }
   ],
   "source": [
    "print(f\"{key = }, {other_key = }\")"
   ]
  },
  {
   "cell_type": "code",
   "execution_count": 106,
   "id": "7128d901-0c07-41c9-9e88-b6d15117bc19",
   "metadata": {},
   "outputs": [],
   "source": [
    "a = 4\n",
    "b = 4"
   ]
  },
  {
   "cell_type": "code",
   "execution_count": 107,
   "id": "9548934c-dd57-4657-b67f-929c59ca7f6a",
   "metadata": {},
   "outputs": [],
   "source": [
    "a = [1,2,3,4]"
   ]
  },
  {
   "cell_type": "code",
   "execution_count": 108,
   "id": "8faf9fb0-103e-4af7-af51-f26591ecffdf",
   "metadata": {},
   "outputs": [],
   "source": [
    "b = a"
   ]
  },
  {
   "cell_type": "code",
   "execution_count": 100,
   "id": "308f2f70-b8fa-4ce1-b027-8cff91946ce9",
   "metadata": {},
   "outputs": [],
   "source": [
    "a[3] = \"e\""
   ]
  },
  {
   "cell_type": "code",
   "execution_count": 101,
   "id": "bccb163d-b29f-408f-b615-2c1be5f5b642",
   "metadata": {},
   "outputs": [
    {
     "data": {
      "text/plain": [
       "[1, 2, 3, 'e']"
      ]
     },
     "execution_count": 101,
     "metadata": {},
     "output_type": "execute_result"
    }
   ],
   "source": [
    "b"
   ]
  },
  {
   "cell_type": "code",
   "execution_count": 111,
   "id": "6d6fe16c-f237-417d-a6ee-79cec15d19ec",
   "metadata": {},
   "outputs": [],
   "source": [
    "b = a[0:]"
   ]
  },
  {
   "cell_type": "code",
   "execution_count": 112,
   "id": "3f8a6780-fbf0-43b8-b253-3619f05e4778",
   "metadata": {},
   "outputs": [
    {
     "data": {
      "text/plain": [
       "[1, 2, 3, 4]"
      ]
     },
     "execution_count": 112,
     "metadata": {},
     "output_type": "execute_result"
    }
   ],
   "source": [
    "b"
   ]
  },
  {
   "cell_type": "code",
   "execution_count": 109,
   "id": "b93a8c84-d9f8-4555-92fe-0e598e3d45c6",
   "metadata": {},
   "outputs": [
    {
     "data": {
      "text/plain": [
       "140383690689344"
      ]
     },
     "execution_count": 109,
     "metadata": {},
     "output_type": "execute_result"
    }
   ],
   "source": [
    "id(a)"
   ]
  },
  {
   "cell_type": "code",
   "execution_count": 113,
   "id": "5f09c9c8-4e05-4bf8-b433-149c467a9c6d",
   "metadata": {},
   "outputs": [
    {
     "data": {
      "text/plain": [
       "140383690627328"
      ]
     },
     "execution_count": 113,
     "metadata": {},
     "output_type": "execute_result"
    }
   ],
   "source": [
    "id(b)"
   ]
  },
  {
   "cell_type": "code",
   "execution_count": null,
   "id": "ebdd518d-5851-4770-8a6c-9456904d3500",
   "metadata": {},
   "outputs": [],
   "source": []
  }
 ],
 "metadata": {
  "kernelspec": {
   "display_name": "Python 3 (ipykernel)",
   "language": "python",
   "name": "python3"
  },
  "language_info": {
   "codemirror_mode": {
    "name": "ipython",
    "version": 3
   },
   "file_extension": ".py",
   "mimetype": "text/x-python",
   "name": "python",
   "nbconvert_exporter": "python",
   "pygments_lexer": "ipython3",
   "version": "3.11.5"
  }
 },
 "nbformat": 4,
 "nbformat_minor": 5
}
