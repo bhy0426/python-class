{
 "cells": [
  {
   "cell_type": "code",
   "execution_count": 1,
   "id": "0daa75d7-6ff1-44c6-9c1d-595e87f157b0",
   "metadata": {},
   "outputs": [
    {
     "data": {
      "text/plain": [
       "'i eat fruit '"
      ]
     },
     "execution_count": 1,
     "metadata": {},
     "output_type": "execute_result"
    }
   ],
   "source": [
    "\"i eat %s \" %\"fruit\""
   ]
  },
  {
   "cell_type": "code",
   "execution_count": 2,
   "id": "d8c246bd-9ba9-4089-b5e1-91ddac4266a6",
   "metadata": {},
   "outputs": [
    {
     "data": {
      "text/plain": [
       "'i eat fruit, apple '"
      ]
     },
     "execution_count": 2,
     "metadata": {},
     "output_type": "execute_result"
    }
   ],
   "source": [
    "\"i eat %s, %s \" %(\"fruit\", \"apple\")"
   ]
  },
  {
   "cell_type": "code",
   "execution_count": 3,
   "id": "8f358113-f467-487a-a90c-55db8e0589fa",
   "metadata": {},
   "outputs": [
    {
     "data": {
      "text/plain": [
       "'Age : 4'"
      ]
     },
     "execution_count": 3,
     "metadata": {},
     "output_type": "execute_result"
    }
   ],
   "source": [
    "\"Age : %d\" %4"
   ]
  },
  {
   "cell_type": "code",
   "execution_count": 4,
   "id": "f8aa6894-9bf6-42cf-921a-ff70c73513c1",
   "metadata": {},
   "outputs": [
    {
     "data": {
      "text/plain": [
       "'Age : 4'"
      ]
     },
     "execution_count": 4,
     "metadata": {},
     "output_type": "execute_result"
    }
   ],
   "source": [
    "\"Age : %s\" %4"
   ]
  },
  {
   "cell_type": "code",
   "execution_count": 5,
   "id": "622a9f9a-5c19-4789-8e3a-9967464d54b8",
   "metadata": {},
   "outputs": [
    {
     "data": {
      "text/plain": [
       "'Age : 4.300000'"
      ]
     },
     "execution_count": 5,
     "metadata": {},
     "output_type": "execute_result"
    }
   ],
   "source": [
    "\"Age : %f\" %4.3"
   ]
  },
  {
   "cell_type": "code",
   "execution_count": 9,
   "id": "77ad5377-2fc5-4853-a4ea-f8e89bb09554",
   "metadata": {},
   "outputs": [
    {
     "data": {
      "text/plain": [
       "'i eat 3, five, 2.5 apple'"
      ]
     },
     "execution_count": 9,
     "metadata": {},
     "output_type": "execute_result"
    }
   ],
   "source": [
    "\"i eat {0}, {1}, {2} apple\".format(3, \"five\", 2.5)"
   ]
  },
  {
   "cell_type": "code",
   "execution_count": 36,
   "id": "69e774fa-5425-4d41-bb09-9a7f9d065005",
   "metadata": {},
   "outputs": [
    {
     "data": {
      "text/plain": [
       "'i eat 3, five, alex apple'"
      ]
     },
     "execution_count": 36,
     "metadata": {},
     "output_type": "execute_result"
    }
   ],
   "source": [
    "name = \"alex\"\n",
    "\"i eat {0}, {1}, {2} apple\".format(3, \"five\", name)"
   ]
  },
  {
   "cell_type": "code",
   "execution_count": 3,
   "id": "f0f9f707-5bc5-4f4d-b429-1c979356d35d",
   "metadata": {},
   "outputs": [],
   "source": [
    "count = os\n",
    "str = f\"i eat {count} apple\""
   ]
  },
  {
   "cell_type": "code",
   "execution_count": 4,
   "id": "af2a922f-8ac3-4a60-8d51-5480d57aecd5",
   "metadata": {},
   "outputs": [
    {
     "name": "stdout",
     "output_type": "stream",
     "text": [
      "i eat 20 apple\n"
     ]
    }
   ],
   "source": [
    "print(str) "
   ]
  },
  {
   "cell_type": "code",
   "execution_count": 9,
   "id": "04f0e222-ca4f-489b-b9d7-e671dfa60d70",
   "metadata": {},
   "outputs": [],
   "source": [
    "def makeString():\n",
    "    return \"string01\""
   ]
  },
  {
   "cell_type": "code",
   "execution_count": 10,
   "id": "50281874-90b5-4a69-84d7-d5d816fce9a8",
   "metadata": {},
   "outputs": [
    {
     "name": "stdout",
     "output_type": "stream",
     "text": [
      "string01\n"
     ]
    }
   ],
   "source": [
    "print(f\"{makeString()}\")"
   ]
  },
  {
   "cell_type": "code",
   "execution_count": 11,
   "id": "95dfe641-87f7-445e-9281-9b062e571f8f",
   "metadata": {},
   "outputs": [
    {
     "data": {
      "text/plain": [
       "'s,t,r,i,n,g,0,1'"
      ]
     },
     "execution_count": 11,
     "metadata": {},
     "output_type": "execute_result"
    }
   ],
   "source": [
    "\",\".join(f\"{makeString()}\")"
   ]
  },
  {
   "cell_type": "code",
   "execution_count": 15,
   "id": "208c2381-56b3-4402-8b30-2d26e61e2840",
   "metadata": {},
   "outputs": [],
   "source": [
    "sample = \"Life is too short\""
   ]
  },
  {
   "cell_type": "code",
   "execution_count": 16,
   "id": "09115a5d-f1bd-4fac-98f9-1b7c5884b232",
   "metadata": {},
   "outputs": [
    {
     "name": "stdout",
     "output_type": "stream",
     "text": [
      "t\n"
     ]
    }
   ],
   "source": [
    "str = sample[sample.find(\"t\")]\n",
    "print(str)"
   ]
  },
  {
   "cell_type": "code",
   "execution_count": null,
   "id": "9841a1a4-8bdd-4d92-ba44-7f7d1ced1d8f",
   "metadata": {},
   "outputs": [],
   "source": []
  },
  {
   "cell_type": "code",
   "execution_count": 17,
   "id": "23b402ea-8917-44db-ab3d-798d52e94d47",
   "metadata": {},
   "outputs": [
    {
     "data": {
      "text/plain": [
       "'life is too short'"
      ]
     },
     "execution_count": 17,
     "metadata": {},
     "output_type": "execute_result"
    }
   ],
   "source": [
    "sample.lower()"
   ]
  },
  {
   "cell_type": "code",
   "execution_count": 18,
   "id": "552b3352-cc43-404e-bbf1-641f0c6e3551",
   "metadata": {},
   "outputs": [
    {
     "data": {
      "text/plain": [
       "'LIFE IS TOO SHORT'"
      ]
     },
     "execution_count": 18,
     "metadata": {},
     "output_type": "execute_result"
    }
   ],
   "source": [
    "sample.upper()"
   ]
  },
  {
   "cell_type": "code",
   "execution_count": 19,
   "id": "a9b2a702-2e11-4d6e-92c9-63ae2ec12638",
   "metadata": {},
   "outputs": [],
   "source": [
    "sample = \",\".join(f\"{makeString()}\")"
   ]
  },
  {
   "cell_type": "code",
   "execution_count": 20,
   "id": "e34db01e-9a75-49ee-bd4b-1df8ed982289",
   "metadata": {},
   "outputs": [
    {
     "name": "stdout",
     "output_type": "stream",
     "text": [
      "s,t,r,i,n,g,0,1\n"
     ]
    }
   ],
   "source": [
    "print(sample)"
   ]
  },
  {
   "cell_type": "code",
   "execution_count": 21,
   "id": "d382e10b-e768-43ce-a4e7-34d8e72e9f66",
   "metadata": {},
   "outputs": [
    {
     "data": {
      "text/plain": [
       "['s', 't', 'r', 'i', 'n', 'g', '0', '1']"
      ]
     },
     "execution_count": 21,
     "metadata": {},
     "output_type": "execute_result"
    }
   ],
   "source": [
    "sample.split(\",\")"
   ]
  },
  {
   "cell_type": "code",
   "execution_count": 22,
   "id": "4be3cb1e-0614-484f-8041-8a7dd5486a68",
   "metadata": {},
   "outputs": [],
   "source": [
    "a = [1,2,3,4,5]"
   ]
  },
  {
   "cell_type": "code",
   "execution_count": 23,
   "id": "f3a28a6a-b75d-41ee-b2fd-e37eefdc6d81",
   "metadata": {},
   "outputs": [
    {
     "data": {
      "text/plain": [
       "[1, 2, 3, 4, 5]"
      ]
     },
     "execution_count": 23,
     "metadata": {},
     "output_type": "execute_result"
    }
   ],
   "source": [
    "a"
   ]
  },
  {
   "cell_type": "code",
   "execution_count": 25,
   "id": "937dec75-f612-49e4-bb62-16f1786ce07b",
   "metadata": {},
   "outputs": [
    {
     "data": {
      "text/plain": [
       "4"
      ]
     },
     "execution_count": 25,
     "metadata": {},
     "output_type": "execute_result"
    }
   ],
   "source": [
    "a[3]"
   ]
  },
  {
   "cell_type": "code",
   "execution_count": 27,
   "id": "55907209-014b-44ae-a7cf-dfa8a61e9d5c",
   "metadata": {},
   "outputs": [],
   "source": [
    "a = [1,2,3,\"four\",\"five\", [\"a\", 3]]"
   ]
  },
  {
   "cell_type": "code",
   "execution_count": 28,
   "id": "300dc63f-b017-45b5-891f-e6736419e792",
   "metadata": {},
   "outputs": [
    {
     "data": {
      "text/plain": [
       "[1, 2, 3, 'four', 'five', ['a', 3]]"
      ]
     },
     "execution_count": 28,
     "metadata": {},
     "output_type": "execute_result"
    }
   ],
   "source": [
    "a"
   ]
  },
  {
   "cell_type": "code",
   "execution_count": 29,
   "id": "6be1d7fb-58fc-47ba-b533-ddb4379e1bcd",
   "metadata": {},
   "outputs": [
    {
     "data": {
      "text/plain": [
       "4"
      ]
     },
     "execution_count": 29,
     "metadata": {},
     "output_type": "execute_result"
    }
   ],
   "source": [
    "a[0] + a[2]"
   ]
  },
  {
   "cell_type": "code",
   "execution_count": 33,
   "id": "261b6765-38a5-48a7-891d-6e98e50710d2",
   "metadata": {},
   "outputs": [
    {
     "data": {
      "text/plain": [
       "list"
      ]
     },
     "execution_count": 33,
     "metadata": {},
     "output_type": "execute_result"
    }
   ],
   "source": [
    "type(a[5])"
   ]
  },
  {
   "cell_type": "code",
   "execution_count": 34,
   "id": "6fc5928f-990d-4d3e-a324-430e3e0c74f9",
   "metadata": {},
   "outputs": [
    {
     "data": {
      "text/plain": [
       "\"a[5] = ['a', 3]\""
      ]
     },
     "execution_count": 34,
     "metadata": {},
     "output_type": "execute_result"
    }
   ],
   "source": [
    "f\"{a[5] = }\""
   ]
  },
  {
   "cell_type": "code",
   "execution_count": 37,
   "id": "c40c511d-f646-40ab-9164-c55561474900",
   "metadata": {},
   "outputs": [
    {
     "data": {
      "text/plain": [
       "\"name = 'alex'\""
      ]
     },
     "execution_count": 37,
     "metadata": {},
     "output_type": "execute_result"
    }
   ],
   "source": [
    "f\"{name = }\""
   ]
  },
  {
   "cell_type": "code",
   "execution_count": 39,
   "id": "a9f6860a-b753-4fb8-b821-6efd39415442",
   "metadata": {},
   "outputs": [
    {
     "name": "stdout",
     "output_type": "stream",
     "text": [
      "a[5] = ['a', 3],\n",
      "<class 'list'>\n",
      "\n"
     ]
    }
   ],
   "source": [
    "print(f\"\"\"{a[5] = },\n",
    "{type(a[5])}\n",
    "\"\"\")"
   ]
  },
  {
   "cell_type": "code",
   "execution_count": 41,
   "id": "b8a61ea8-066d-404f-b1ae-6a042525e0d5",
   "metadata": {},
   "outputs": [
    {
     "data": {
      "text/plain": [
       "['four', 'five']"
      ]
     },
     "execution_count": 41,
     "metadata": {},
     "output_type": "execute_result"
    }
   ],
   "source": [
    "a[3:5]"
   ]
  },
  {
   "cell_type": "code",
   "execution_count": 43,
   "id": "872c6e5e-bd6f-4f6d-8e49-2be178e8f7a1",
   "metadata": {},
   "outputs": [
    {
     "data": {
      "text/plain": [
       "list"
      ]
     },
     "execution_count": 43,
     "metadata": {},
     "output_type": "execute_result"
    }
   ],
   "source": [
    "type(a[3:5])"
   ]
  },
  {
   "cell_type": "code",
   "execution_count": 44,
   "id": "4c047312-f986-4dab-8f22-45a16350c06c",
   "metadata": {},
   "outputs": [
    {
     "name": "stdout",
     "output_type": "stream",
     "text": [
      "a[3:5] = ['four', 'five'],\n",
      "<class 'list'>\n",
      "\n"
     ]
    }
   ],
   "source": [
    "print(f\"\"\"{a[3:5] = },\n",
    "{type(a[3:5])}\n",
    "\"\"\")"
   ]
  },
  {
   "cell_type": "code",
   "execution_count": 45,
   "id": "e3735108-b688-4b74-9bd7-67555e2a3bca",
   "metadata": {},
   "outputs": [
    {
     "data": {
      "text/plain": [
       "['four', 'five', ['a', 3]]"
      ]
     },
     "execution_count": 45,
     "metadata": {},
     "output_type": "execute_result"
    }
   ],
   "source": [
    "a[3:]"
   ]
  },
  {
   "cell_type": "code",
   "execution_count": 46,
   "id": "a8f17bb3-05c9-488d-8139-b56feaf73454",
   "metadata": {},
   "outputs": [
    {
     "data": {
      "text/plain": [
       "[2, 'four', ['a', 3]]"
      ]
     },
     "execution_count": 46,
     "metadata": {},
     "output_type": "execute_result"
    }
   ],
   "source": [
    "a[1::2]"
   ]
  },
  {
   "cell_type": "code",
   "execution_count": 47,
   "id": "d16929cd-e1a6-45f2-bb76-249be7fd8b23",
   "metadata": {},
   "outputs": [
    {
     "data": {
      "text/plain": [
       "[1, 2, 3, 'four', 'five', ['a', 3], 100, 200, 300, 400, 500]"
      ]
     },
     "execution_count": 47,
     "metadata": {},
     "output_type": "execute_result"
    }
   ],
   "source": [
    "a = [1,2,3,\"four\",\"five\", [\"a\", 3]]\n",
    "b = [100, 200, 300, 400, 500]\n",
    "a + b"
   ]
  },
  {
   "cell_type": "code",
   "execution_count": 48,
   "id": "8bfd9e3f-a843-415d-8ba4-cd96010e7dc7",
   "metadata": {},
   "outputs": [
    {
     "data": {
      "text/plain": [
       "[1,\n",
       " 2,\n",
       " 3,\n",
       " 'four',\n",
       " 'five',\n",
       " ['a', 3],\n",
       " 1,\n",
       " 2,\n",
       " 3,\n",
       " 'four',\n",
       " 'five',\n",
       " ['a', 3],\n",
       " 1,\n",
       " 2,\n",
       " 3,\n",
       " 'four',\n",
       " 'five',\n",
       " ['a', 3]]"
      ]
     },
     "execution_count": 48,
     "metadata": {},
     "output_type": "execute_result"
    }
   ],
   "source": [
    "a * 3"
   ]
  },
  {
   "cell_type": "code",
   "execution_count": 49,
   "id": "0a8a640e-df1d-4c71-bdc1-6009490f5729",
   "metadata": {},
   "outputs": [
    {
     "data": {
      "text/plain": [
       "[100, 200, 300, 400, 500, 100, 200, 300, 400, 500, 100, 200, 300, 400, 500]"
      ]
     },
     "execution_count": 49,
     "metadata": {},
     "output_type": "execute_result"
    }
   ],
   "source": [
    "b * 3"
   ]
  },
  {
   "cell_type": "code",
   "execution_count": 50,
   "id": "8ba4241f-bd27-4755-89f7-cc9e2758db92",
   "metadata": {},
   "outputs": [
    {
     "data": {
      "text/plain": [
       "6"
      ]
     },
     "execution_count": 50,
     "metadata": {},
     "output_type": "execute_result"
    }
   ],
   "source": [
    "len(a)"
   ]
  },
  {
   "cell_type": "code",
   "execution_count": 53,
   "id": "6f1360a8-f6ea-482b-9f00-43abcb7dbe6f",
   "metadata": {},
   "outputs": [],
   "source": [
    "sample = \"Life is too short\"\n"
   ]
  },
  {
   "cell_type": "code",
   "execution_count": 54,
   "id": "30a65d29-0926-489d-85c9-7f65331b9405",
   "metadata": {},
   "outputs": [
    {
     "data": {
      "text/plain": [
       "17"
      ]
     },
     "execution_count": 54,
     "metadata": {},
     "output_type": "execute_result"
    }
   ],
   "source": [
    "len(sample)"
   ]
  },
  {
   "cell_type": "code",
   "execution_count": 55,
   "id": "6012837e-f7d0-4b35-a481-763dcc4902b3",
   "metadata": {},
   "outputs": [
    {
     "data": {
      "text/plain": [
       "6"
      ]
     },
     "execution_count": 55,
     "metadata": {},
     "output_type": "execute_result"
    }
   ],
   "source": [
    "len(a)"
   ]
  },
  {
   "cell_type": "code",
   "execution_count": 56,
   "id": "c5447fc0-1f86-4967-afce-9f147c01f2b1",
   "metadata": {},
   "outputs": [
    {
     "data": {
      "text/plain": [
       "'five'"
      ]
     },
     "execution_count": 56,
     "metadata": {},
     "output_type": "execute_result"
    }
   ],
   "source": [
    "a[4]"
   ]
  },
  {
   "cell_type": "code",
   "execution_count": 57,
   "id": "32112d25-8add-4948-a27d-ee3e2085729a",
   "metadata": {},
   "outputs": [],
   "source": [
    "a[4] = \"six\""
   ]
  },
  {
   "cell_type": "code",
   "execution_count": 59,
   "id": "86132fa3-a337-4ba1-b8a4-f12681fd4d24",
   "metadata": {},
   "outputs": [
    {
     "data": {
      "text/plain": [
       "[1, 2, 3, 'four', 'six', ['a', 3]]"
      ]
     },
     "execution_count": 59,
     "metadata": {},
     "output_type": "execute_result"
    }
   ],
   "source": [
    "a"
   ]
  },
  {
   "cell_type": "code",
   "execution_count": 60,
   "id": "95d00d21-6f4b-457b-955d-b949b1e12bc2",
   "metadata": {},
   "outputs": [],
   "source": [
    "del a[4]"
   ]
  },
  {
   "cell_type": "code",
   "execution_count": 61,
   "id": "ff2a5d04-830c-4889-99b8-b2226d2af639",
   "metadata": {},
   "outputs": [
    {
     "data": {
      "text/plain": [
       "[1, 2, 3, 'four', ['a', 3]]"
      ]
     },
     "execution_count": 61,
     "metadata": {},
     "output_type": "execute_result"
    }
   ],
   "source": [
    "a"
   ]
  },
  {
   "cell_type": "code",
   "execution_count": null,
   "id": "7e389fc8-9936-42b0-9f5f-414f9c632717",
   "metadata": {},
   "outputs": [],
   "source": []
  },
  {
   "cell_type": "code",
   "execution_count": null,
   "id": "83b7f049-0471-4c31-b4d3-b526524bc5a6",
   "metadata": {},
   "outputs": [],
   "source": []
  },
  {
   "cell_type": "code",
   "execution_count": null,
   "id": "7bd3cd0e-c59e-46a2-9333-3e9677e373ed",
   "metadata": {},
   "outputs": [],
   "source": []
  },
  {
   "cell_type": "code",
   "execution_count": null,
   "id": "5d78c7da-b3eb-45f9-942f-928f61ed5cd7",
   "metadata": {},
   "outputs": [],
   "source": []
  },
  {
   "cell_type": "code",
   "execution_count": null,
   "id": "a8deb6f8-ab73-425e-81ba-b77f7c775f1e",
   "metadata": {},
   "outputs": [],
   "source": []
  },
  {
   "cell_type": "code",
   "execution_count": null,
   "id": "e43bbbf0-14f4-4fd5-aca3-19f8f2f65f8e",
   "metadata": {},
   "outputs": [],
   "source": []
  }
 ],
 "metadata": {
  "kernelspec": {
   "display_name": "Python 3 (ipykernel)",
   "language": "python",
   "name": "python3"
  },
  "language_info": {
   "codemirror_mode": {
    "name": "ipython",
    "version": 3
   },
   "file_extension": ".py",
   "mimetype": "text/x-python",
   "name": "python",
   "nbconvert_exporter": "python",
   "pygments_lexer": "ipython3",
   "version": "3.11.5"
  }
 },
 "nbformat": 4,
 "nbformat_minor": 5
}
